{
 "cells": [
  {
   "cell_type": "code",
   "execution_count": 1,
   "metadata": {},
   "outputs": [],
   "source": [
    "# Importing necessary libraries from BioPython\n",
    "from Bio import Phylo, AlignIO\n",
    "from Bio.Phylo.TreeConstruction import DistanceCalculator, DistanceTreeConstructor"
   ]
  },
  {
   "cell_type": "markdown",
   "metadata": {},
   "source": [
    "+ https://medium.com/geekculture/phylogenetic-trees-implement-in-python-3f9df96c0c32\n",
    "+ https://taylor-lindsay.github.io/phylogenetics/#:~:text=There%20are%20currently%20multiple%20packages%20that%20allow%20users,the%20capacity%20create%20phylogenetic%20tree%20diagrams%20using%20matplotlib."
   ]
  },
  {
   "cell_type": "markdown",
   "metadata": {},
   "source": []
  }
 ],
 "metadata": {
  "kernelspec": {
   "display_name": "Python 3.8.13 ('biopythonv')",
   "language": "python",
   "name": "python3"
  },
  "language_info": {
   "codemirror_mode": {
    "name": "ipython",
    "version": 3
   },
   "file_extension": ".py",
   "mimetype": "text/x-python",
   "name": "python",
   "nbconvert_exporter": "python",
   "pygments_lexer": "ipython3",
   "version": "3.8.13"
  },
  "orig_nbformat": 4,
  "vscode": {
   "interpreter": {
    "hash": "522ebcbe4673359377fc9004e031a55fb3a6cc5e3c5bfede8c9e4daeeb38c82a"
   }
  }
 },
 "nbformat": 4,
 "nbformat_minor": 2
}
